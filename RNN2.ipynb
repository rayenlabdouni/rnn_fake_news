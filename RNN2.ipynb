{
  "nbformat": 4,
  "nbformat_minor": 0,
  "metadata": {
    "colab": {
      "provenance": [],
      "mount_file_id": "1A_0Q7KmgXXhDVQXgzT8lTdtDL9r2RONg",
      "authorship_tag": "ABX9TyPee/bdl31HLDt7g6GvnA3+",
      "include_colab_link": true
    },
    "kernelspec": {
      "name": "python3",
      "display_name": "Python 3"
    }
  },
  "cells": [
    {
      "cell_type": "markdown",
      "metadata": {
        "id": "view-in-github",
        "colab_type": "text"
      },
      "source": [
        "<a href=\"https://colab.research.google.com/github/rayenlabdouni/rnn_fake_news/blob/rnn/RNN2.ipynb\" target=\"_parent\"><img src=\"https://colab.research.google.com/assets/colab-badge.svg\" alt=\"Open In Colab\"/></a>"
      ]
    },
    {
      "cell_type": "code",
      "metadata": {
        "id": "7YCSmVf_0tNT",
        "colab": {
          "base_uri": "https://localhost:8080/"
        },
        "outputId": "34d5b82b-091c-49e3-af71-41cd35f328ff"
      },
      "source": [
        "import numpy as np\n",
        "import pandas as pd\n",
        "from collections import defaultdict\n",
        "import re\n",
        "import tensorflow as tf\n",
        "\n",
        "from bs4 import BeautifulSoup\n",
        "\n",
        "import sys\n",
        "import os\n",
        "\n",
        "from keras.preprocessing.text import Tokenizer\n",
        "from keras.preprocessing.sequence import pad_sequences\n",
        "from keras.utils.np_utils import to_categorical\n",
        "\n",
        "from keras.layers import Embedding\n",
        "from keras.layers import Dense, Input,Bidirectional,LSTM\n",
        "from keras.layers import Embedding\n",
        "from keras.models import Model,Sequential\n",
        "\n",
        "df = pd.read_csv(\"drive/My Drive/go/data2.csv\",sep=\",\")\n",
        "\n",
        "texts = []\n",
        "classess = []\n",
        "\n",
        "\n",
        "for i in range(df.text.shape[0]):\n",
        "    df[\"title\"]=df[\"title\"].astype(str)\n",
        "    df[\"text\"]=df[\"text\"].astype(str)\n",
        "    text = df.title[i]\n",
        "    text2= df.text[i]\n",
        "    textt = text + \" \" + text2\n",
        "    texts.append(textt)\n",
        "    classess.append(df.label[i])\n",
        "\n",
        "    \n",
        "tokenizer = Tokenizer(num_words=20000)\n",
        "tokenizer.fit_on_texts(texts)\n",
        "sequences = tokenizer.texts_to_sequences(texts)\n",
        "word_index = tokenizer.word_index\n",
        "print(len(sequences))\n",
        "df.count()\n",
        "\n",
        "data = pad_sequences(sequences, maxlen=1000)\n",
        "y = df[\"label\"]\n",
        "labels = to_categorical(y,num_classes = 2,dtype=\"int32\")\n",
        "print('Shape of data tensor:', data.shape)\n",
        "print('Shape of label tensor:', labels.shape)\n",
        "print(data)\n",
        "\n",
        "from sklearn.model_selection import train_test_split\n",
        "\"\"\"\n",
        "indices = np.arange(data.shape[0])\n",
        "np.random.shuffle(indices)\n",
        "data = data[indices]\n",
        "labels = labels[indices]\n",
        "\"\"\"\n",
        "x_train, x_test, y_train, y_test = train_test_split( data, labels, test_size=0.20)\n",
        "x_test, x_val, y_test, y_val = train_test_split( data, labels, test_size=0.50)\n",
        "print('Size of train, validation, test:', len(y_train), len(y_test))\n",
        "print('real & fake news in train,valt,test:')\n",
        "print(y_train.sum(axis=0))\n",
        "print(y_test.sum(axis=0))\n",
        "\n",
        "\n",
        "embeddings_index = {}\n",
        "f = open('drive/My Drive/go/glove.6B.100d.txt')\n",
        "for line in f:\n",
        "    values = line.split()\n",
        "    #print(values[1:])\n",
        "    word = values[0]\n",
        "    coefs = np.asarray(values[1:], dtype='float32')\n",
        "    embeddings_index[word] = coefs\n",
        "f.close()\n",
        "\n",
        "print('Total %s word vectors in Glove.' % len(embeddings_index))\n",
        "\n",
        "embedding_matrix = np.random.random((len(word_index) + 1, 100))\n",
        "for word, i in word_index.items():\n",
        "    embedding_vector = embeddings_index.get(word)\n",
        "    if embedding_vector is not None:\n",
        "        # words not found in embedding index will be all-zeros.\n",
        "        embedding_matrix[i] = embedding_vector\n",
        "embedding_layer = Embedding(len(word_index) + 1,\n",
        "                            100,\n",
        "                            weights=[embedding_matrix],\n",
        "                            input_length=1000)\n",
        "\t\n",
        "sequence_input = Input(shape=(1000,), dtype='int32')\n",
        "embedded_sequences = embedding_layer(sequence_input)\n",
        "l_lstm = Bidirectional(LSTM(100))(embedded_sequences)\n",
        "preds = Dense(2, activation='softmax')(l_lstm)\n",
        "model = Model(sequence_input, preds)\n",
        "model.compile(loss='binary_crossentropy',optimizer='RMSprop',  metrics=['acc'])\n",
        "model.summary()\n",
        "history = model.fit(x_train, y_train, validation_data=(x_test,y_test),\n",
        "          epochs=11, batch_size=200)\t "
      ],
      "execution_count": null,
      "outputs": [
        {
          "output_type": "stream",
          "name": "stdout",
          "text": [
            "20203\n",
            "Shape of data tensor: (20203, 1000)\n",
            "Shape of label tensor: (20203, 2)\n",
            "[[    0     0     0 ... 12843     5  4285]\n",
            " [    0     0     0 ... 19925  1166 13700]\n",
            " [   10     1   124 ...   670  8692  8996]\n",
            " ...\n",
            " [    0     0     0 ...  3678   774    11]\n",
            " [    0     0     0 ...    10    59  3839]\n",
            " [ 3436  6823    38 ...  1639  2304  3574]]\n",
            "Size of train, validation, test: 16162 10101\n",
            "real & fake news in train,valt,test:\n",
            "[8307 7855]\n",
            "[5248 4853]\n",
            "Total 400000 word vectors in Glove.\n",
            "Model: \"model\"\n",
            "_________________________________________________________________\n",
            " Layer (type)                Output Shape              Param #   \n",
            "=================================================================\n",
            " input_1 (InputLayer)        [(None, 1000)]            0         \n",
            "                                                                 \n",
            " embedding (Embedding)       (None, 1000, 100)         24104100  \n",
            "                                                                 \n",
            " bidirectional (Bidirectiona  (None, 200)              160800    \n",
            " l)                                                              \n",
            "                                                                 \n",
            " dense (Dense)               (None, 2)                 402       \n",
            "                                                                 \n",
            "=================================================================\n",
            "Total params: 24,265,302\n",
            "Trainable params: 24,265,302\n",
            "Non-trainable params: 0\n",
            "_________________________________________________________________\n",
            "Epoch 1/11\n",
            "81/81 [==============================] - 829s 10s/step - loss: 0.5014 - acc: 0.7468 - val_loss: 0.3522 - val_acc: 0.8447\n",
            "Epoch 2/11\n",
            "81/81 [==============================] - 818s 10s/step - loss: 0.3256 - acc: 0.8531 - val_loss: 0.2524 - val_acc: 0.8971\n",
            "Epoch 3/11\n",
            "81/81 [==============================] - 814s 10s/step - loss: 0.2593 - acc: 0.8913 - val_loss: 0.2506 - val_acc: 0.8998\n",
            "Epoch 4/11\n",
            "81/81 [==============================] - 795s 10s/step - loss: 0.2101 - acc: 0.9128 - val_loss: 0.1493 - val_acc: 0.9403\n",
            "Epoch 5/11\n",
            "81/81 [==============================] - 801s 10s/step - loss: 0.1736 - acc: 0.9306 - val_loss: 0.1668 - val_acc: 0.9320\n",
            "Epoch 6/11\n",
            "81/81 [==============================] - 807s 10s/step - loss: 0.1437 - acc: 0.9452 - val_loss: 0.1042 - val_acc: 0.9648\n",
            "Epoch 7/11\n",
            "81/81 [==============================] - 805s 10s/step - loss: 0.0995 - acc: 0.9637 - val_loss: 0.0752 - val_acc: 0.9735\n",
            "Epoch 8/11\n",
            "81/81 [==============================] - 811s 10s/step - loss: 0.0874 - acc: 0.9705 - val_loss: 0.0676 - val_acc: 0.9760\n",
            "Epoch 9/11\n",
            "81/81 [==============================] - 805s 10s/step - loss: 0.0687 - acc: 0.9760 - val_loss: 0.0856 - val_acc: 0.9706\n",
            "Epoch 10/11\n",
            "81/81 [==============================] - 795s 10s/step - loss: 0.0499 - acc: 0.9830 - val_loss: 0.0403 - val_acc: 0.9854\n",
            "Epoch 11/11\n",
            "81/81 [==============================] - 800s 10s/step - loss: 0.0414 - acc: 0.9854 - val_loss: 0.0495 - val_acc: 0.9826\n"
          ]
        }
      ]
    },
    {
      "cell_type": "code",
      "metadata": {
        "id": "MRNdDcSI096n",
        "colab": {
          "base_uri": "https://localhost:8080/",
          "height": 590
        },
        "outputId": "16ed2b10-0535-470e-a1ef-9c22355bb2b3"
      },
      "source": [
        "\n",
        "import matplotlib.pyplot as plt\n",
        "%matplotlib inline \n",
        "# list all data in history\n",
        "print(history.history.keys())\n",
        "# summarize history for accuracy\n",
        "plt.plot(history.history['acc'])\n",
        "plt.plot(history.history['val_acc'])\n",
        "plt.title('model accuracy')\n",
        "plt.ylabel('accuracy')\n",
        "plt.xlabel('epoch')\n",
        "plt.legend(['train', 'test'], loc='upper left')\n",
        "plt.show()\n",
        "# summarize history for loss\n",
        "plt.plot(history.history['loss'])\n",
        "plt.plot(history.history['val_loss'])\n",
        "plt.title('model loss')\n",
        "plt.ylabel('loss')\n",
        "plt.xlabel('epoch')\n",
        "plt.legend(['train', 'test'], loc='upper left')\n",
        "plt.show()\n",
        "\n",
        "import pickle\n",
        "fie = \"drive/My Drive/go/RNNdata23.sav\"\n",
        "his = \"drive/My Drive/go/RNNdata23his.sav\"\n",
        "pickle.dump(model,open(fie,'wb'))\n",
        "pickle.dump(history.history,open(his,'wb'))"
      ],
      "execution_count": null,
      "outputs": [
        {
          "output_type": "stream",
          "name": "stdout",
          "text": [
            "dict_keys(['loss', 'acc', 'val_loss', 'val_acc'])\n"
          ]
        },
        {
          "output_type": "display_data",
          "data": {
            "text/plain": [
              "<Figure size 432x288 with 1 Axes>"
            ],
            "image/png": "[encoded data removed]"
          },
          "metadata": {
            "needs_background": "light"
          }
        },
        {
          "output_type": "display_data",
          "data": {
            "text/plain": [
              "<Figure size 432x288 with 1 Axes>"
            ],
            "image/png": "[encoded data removed]"
          },
          "metadata": {
            "needs_background": "light"
          }
        }
      ]
    }
  ]
}